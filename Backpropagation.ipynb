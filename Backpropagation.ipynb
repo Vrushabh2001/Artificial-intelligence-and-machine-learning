{
 "cells": [
  {
   "cell_type": "code",
   "execution_count": 6,
   "id": "437008dd",
   "metadata": {},
   "outputs": [
    {
     "name": "stdout",
     "output_type": "stream",
     "text": [
      "Input:\n",
      "[[0.66666667 1.        ]\n",
      " [0.33333333 0.55555556]\n",
      " [1.         0.66666667]]\n",
      "Actual Output:\n",
      "[[0.92]\n",
      " [0.86]\n",
      " [0.89]]\n",
      "Predicted Output:\n",
      " [[0.894769  ]\n",
      " [0.88142253]\n",
      " [0.89354615]]\n"
     ]
    }
   ],
   "source": [
    "import numpy as np\n",
    "x=np.array(([2,9],[1,5],[3,6]),dtype=float)\n",
    "y=np.array(([92],[86],[89]),dtype=float)\n",
    "X=x/np.amax(x,axis=0)\n",
    "y=y/100\n",
    "\n",
    "def sigmoid(x):\n",
    "    return 1/(1+np.exp(-x))\n",
    "\n",
    "def derivative_sigmoid(x):\n",
    "    return x*(1-x)\n",
    "\n",
    "epoch=7000\n",
    "lr=0.1\n",
    "inputlayer_neuron=2\n",
    "hiddenlayer_neuron=3\n",
    "output_neuron=1\n",
    "\n",
    "wh=np.random.uniform(size=(inputlayer_neuron,hiddenlayer_neuron))\n",
    "bh=np.random.uniform(size=(1,hiddenlayer_neuron))\n",
    "wout=np.random.uniform(size=(hiddenlayer_neuron,output_neuron))\n",
    "bout=np.random.uniform(size=(1,output_neuron))\n",
    "\n",
    "for i in range(epoch): \n",
    "   \n",
    "    hinp1 = np.dot(X,wh) \n",
    "    hinp = hinp1 + bh \n",
    "    hlayer_act = sigmoid(hinp) \n",
    "    outinp1 = np.dot(hlayer_act,wout) \n",
    "    outinp = outinp1 + bout \n",
    "    output = sigmoid(outinp) \n",
    "    EO = y-output \n",
    "    outgrad = derivative_sigmoid(output)\n",
    "    d_output = EO * outgrad \n",
    "    EH = d_output.dot(wout.T) \n",
    "    hiddengrad = derivative_sigmoid(hlayer_act)\n",
    "    d_hiddenlayer = EH * hiddengrad \n",
    "    wout += hlayer_act.T.dot(d_output) * lr\n",
    "    wh += X.T.dot(d_hiddenlayer) * lr \n",
    "   \n",
    "\n",
    "    \n",
    "print(\"Input:\\n\"+str(X))\n",
    "print(\"Actual Output:\\n\"+str(y))\n",
    "print(\"Predicted Output:\\n\",output)\n",
    "    \n",
    "\n"
   ]
  },
  {
   "cell_type": "code",
   "execution_count": null,
   "id": "4ee3c5ca",
   "metadata": {},
   "outputs": [],
   "source": []
  },
  {
   "cell_type": "code",
   "execution_count": null,
   "id": "5cae3a97",
   "metadata": {},
   "outputs": [],
   "source": []
  }
 ],
 "metadata": {
  "kernelspec": {
   "display_name": "Python 3 (ipykernel)",
   "language": "python",
   "name": "python3"
  },
  "language_info": {
   "codemirror_mode": {
    "name": "ipython",
    "version": 3
   },
   "file_extension": ".py",
   "mimetype": "text/x-python",
   "name": "python",
   "nbconvert_exporter": "python",
   "pygments_lexer": "ipython3",
   "version": "3.9.12"
  }
 },
 "nbformat": 4,
 "nbformat_minor": 5
}
