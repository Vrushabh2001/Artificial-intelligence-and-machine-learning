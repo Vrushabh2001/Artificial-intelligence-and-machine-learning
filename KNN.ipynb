{
 "cells": [
  {
   "cell_type": "code",
   "execution_count": 6,
   "id": "f96b02d3",
   "metadata": {},
   "outputs": [
    {
     "name": "stdout",
     "output_type": "stream",
     "text": [
      "Iris Datasets is loaded...\n",
      "Dataset is split into traing and testing\n",
      "Size of traing data and its label (135, 4) (135,)\n",
      "Size of traing data and its label (15, 4) (15,)\n",
      "label 0 - setosa\n",
      "label 1 - versicolor\n",
      "label 2 - virginica\n",
      "Result classification using KNN with K=1\n",
      "Sample: [5.5 4.2 1.4 0.2] Actual-label: 0 Predicted-label: 0\n",
      "Sample: [6.7 3.1 4.7 1.5] Actual-label: 1 Predicted-label: 1\n",
      "Sample: [6.1 3.  4.6 1.4] Actual-label: 1 Predicted-label: 1\n",
      "Sample: [5.  3.4 1.6 0.4] Actual-label: 0 Predicted-label: 0\n",
      "Sample: [5.  3.3 1.4 0.2] Actual-label: 0 Predicted-label: 0\n",
      "Sample: [5.5 2.6 4.4 1.2] Actual-label: 1 Predicted-label: 1\n",
      "Sample: [6.6 3.  4.4 1.4] Actual-label: 1 Predicted-label: 1\n",
      "Sample: [5.9 3.2 4.8 1.8] Actual-label: 1 Predicted-label: 2\n",
      "Sample: [5.1 3.3 1.7 0.5] Actual-label: 0 Predicted-label: 0\n",
      "Sample: [5.  3.  1.6 0.2] Actual-label: 0 Predicted-label: 0\n",
      "Sample: [6.  2.2 5.  1.5] Actual-label: 2 Predicted-label: 1\n",
      "Sample: [6.4 2.8 5.6 2.2] Actual-label: 2 Predicted-label: 2\n",
      "Sample: [6.2 2.8 4.8 1.8] Actual-label: 2 Predicted-label: 2\n",
      "Sample: [5.4 3.4 1.5 0.4] Actual-label: 0 Predicted-label: 0\n",
      "Sample: [6.3 3.4 5.6 2.4] Actual-label: 2 Predicted-label: 2\n",
      "Classification Accuracy 0.8666666666666667\n",
      "confusion matrics\n",
      "[[6 0 0]\n",
      " [0 4 1]\n",
      " [0 1 3]]\n",
      "Accuracy matrics\n",
      "              precision    recall  f1-score   support\n",
      "\n",
      "           0       1.00      1.00      1.00         6\n",
      "           1       0.80      0.80      0.80         5\n",
      "           2       0.75      0.75      0.75         4\n",
      "\n",
      "    accuracy                           0.87        15\n",
      "   macro avg       0.85      0.85      0.85        15\n",
      "weighted avg       0.87      0.87      0.87        15\n",
      "\n"
     ]
    }
   ],
   "source": [
    "from sklearn.model_selection import train_test_split\n",
    "from sklearn.neighbors import KNeighborsClassifier\n",
    "from sklearn import datasets\n",
    "\n",
    "iris=datasets.load_iris()\n",
    "print(\"Iris Datasets is loaded...\")\n",
    "\n",
    "x_train,x_test,y_train,y_test=train_test_split(iris.data,iris.target,test_size=0.1)\n",
    "print(\"Dataset is split into traing and testing\")\n",
    "print(\"Size of traing data and its label\",x_train.shape,y_train.shape)\n",
    "print(\"Size of traing data and its label\",x_test.shape,y_test.shape)\n",
    "\n",
    "for i in range(len(iris.target_names)):\n",
    "    print(\"label\",i,\"-\",str(iris.target_names[i]))\n",
    "    \n",
    "classifier=KNeighborsClassifier(n_neighbors=1)\n",
    "\n",
    "classifier.fit(x_train,y_train)\n",
    "\n",
    "y_pred=classifier.predict(x_test)\n",
    "\n",
    "print(\"Result classification using KNN with K=1\")\n",
    "for r in range(0,len(x_test)):\n",
    "    print(\"Sample:\",str(x_test[r]),\"Actual-label:\",str(y_test[r]),\"Predicted-label:\",str(y_pred[r]))\n",
    "    \n",
    "print(\"Classification Accuracy\",classifier.score(x_test,y_test))\n",
    "from sklearn.metrics import classification_report,confusion_matrix\n",
    "print(\"confusion matrics\")\n",
    "print(confusion_matrix(y_test,y_pred))\n",
    "print(\"Accuracy matrics\")\n",
    "print(classification_report(y_test,y_pred))"
   ]
  },
  {
   "cell_type": "code",
   "execution_count": null,
   "id": "5db4aca3",
   "metadata": {},
   "outputs": [],
   "source": []
  }
 ],
 "metadata": {
  "kernelspec": {
   "display_name": "Python 3 (ipykernel)",
   "language": "python",
   "name": "python3"
  },
  "language_info": {
   "codemirror_mode": {
    "name": "ipython",
    "version": 3
   },
   "file_extension": ".py",
   "mimetype": "text/x-python",
   "name": "python",
   "nbconvert_exporter": "python",
   "pygments_lexer": "ipython3",
   "version": "3.9.12"
  }
 },
 "nbformat": 4,
 "nbformat_minor": 5
}
